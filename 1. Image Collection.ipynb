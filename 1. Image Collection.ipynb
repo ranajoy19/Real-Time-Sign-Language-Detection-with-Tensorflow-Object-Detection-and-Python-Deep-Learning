{
 "cells": [
  {
   "cell_type": "markdown",
   "metadata": {},
   "source": [
    "# 1. Import Dependencies"
   ]
  },
  {
   "cell_type": "code",
   "execution_count": 1,
   "metadata": {},
   "outputs": [
    {
     "name": "stdout",
     "output_type": "stream",
     "text": [
      "Requirement already satisfied: opencv-python in c:\\tensorflow object detection\\tfodcourse\\tfod\\lib\\site-packages (4.5.2.52)\n",
      "Requirement already satisfied: numpy>=1.17.3 in c:\\tensorflow object detection\\tfodcourse\\tfod\\lib\\site-packages (from opencv-python) (1.19.5)\n"
     ]
    }
   ],
   "source": [
    "!pip install opencv-python"
   ]
  },
  {
   "cell_type": "code",
   "execution_count": 2,
   "metadata": {},
   "outputs": [],
   "source": [
    "# Import opencv\n",
    "import cv2 \n",
    "\n",
    "# Import uuid\n",
    "import uuid\n",
    "\n",
    "# Import Operating System\n",
    "import os\n",
    "\n",
    "# Import time\n",
    "import time"
   ]
  },
  {
   "cell_type": "markdown",
   "metadata": {},
   "source": [
    "# 2. Define Images to Collect"
   ]
  },
  {
   "cell_type": "code",
   "execution_count": 3,
   "metadata": {},
   "outputs": [],
   "source": [
    "labels = ['ILOVEYOU', 'MOM', 'thankyou', 'Love_Is_Dead_Marriages_Are_Basically_Funnel_With_Cake']\n",
    "number_imgs = 20\n"
   ]
  },
  {
   "cell_type": "code",
   "execution_count": null,
   "metadata": {},
   "outputs": [],
   "source": []
  },
  {
   "cell_type": "markdown",
   "metadata": {},
   "source": [
    "# 3. Setup Folders "
   ]
  },
  {
   "cell_type": "code",
   "execution_count": 4,
   "metadata": {},
   "outputs": [],
   "source": [
    "IMAGES_PATH = os.path.join('Tensorflow', 'workspace', 'images', 'collectedimages')"
   ]
  },
  {
   "cell_type": "code",
   "execution_count": 5,
   "metadata": {},
   "outputs": [],
   "source": [
    "if not os.path.exists(IMAGES_PATH):\n",
    "    if os.name == 'posix':\n",
    "        !mkdir -p {IMAGES_PATH}\n",
    "    if os.name == 'nt':\n",
    "         !mkdir {IMAGES_PATH}\n",
    "for label in labels:\n",
    "    path = os.path.join(IMAGES_PATH, label)\n",
    "    if not os.path.exists(path):\n",
    "        !mkdir {path}"
   ]
  },
  {
   "cell_type": "markdown",
   "metadata": {},
   "source": [
    "# 4. Capture Images"
   ]
  },
  {
   "cell_type": "code",
   "execution_count": 7,
   "metadata": {},
   "outputs": [
    {
     "name": "stdout",
     "output_type": "stream",
     "text": [
      "Collecting images for ILOVEYOU\n",
      "Collecting image 0\n",
      "Collecting image 1\n",
      "Collecting image 2\n",
      "Collecting image 3\n",
      "Collecting image 4\n",
      "Collecting image 5\n",
      "Collecting image 6\n",
      "Collecting image 7\n",
      "Collecting image 8\n",
      "Collecting image 9\n",
      "Collecting image 10\n",
      "Collecting image 11\n",
      "Collecting image 12\n",
      "Collecting image 13\n",
      "Collecting image 14\n",
      "Collecting image 15\n",
      "Collecting image 16\n",
      "Collecting image 17\n",
      "Collecting image 18\n",
      "Collecting image 19\n",
      "Collecting images for MOM\n",
      "Collecting image 0\n",
      "Collecting image 1\n",
      "Collecting image 2\n",
      "Collecting image 3\n",
      "Collecting image 4\n",
      "Collecting image 5\n",
      "Collecting image 6\n",
      "Collecting image 7\n",
      "Collecting image 8\n",
      "Collecting image 9\n",
      "Collecting image 10\n",
      "Collecting image 11\n",
      "Collecting image 12\n",
      "Collecting image 13\n",
      "Collecting image 14\n",
      "Collecting image 15\n",
      "Collecting image 16\n",
      "Collecting image 17\n",
      "Collecting image 18\n",
      "Collecting image 19\n",
      "Collecting images for thankyou\n",
      "Collecting image 0\n",
      "Collecting image 1\n",
      "Collecting image 2\n",
      "Collecting image 3\n",
      "Collecting image 4\n",
      "Collecting image 5\n",
      "Collecting image 6\n",
      "Collecting image 7\n",
      "Collecting image 8\n",
      "Collecting image 9\n",
      "Collecting image 10\n",
      "Collecting image 11\n",
      "Collecting image 12\n",
      "Collecting image 13\n",
      "Collecting image 14\n",
      "Collecting image 15\n",
      "Collecting image 16\n",
      "Collecting image 17\n",
      "Collecting image 18\n",
      "Collecting image 19\n",
      "Collecting images for Love_Is_Dead_Marriages_Are_Basically_Funnel_With_Cake\n",
      "Collecting image 0\n",
      "Collecting image 1\n",
      "Collecting image 2\n",
      "Collecting image 3\n",
      "Collecting image 4\n",
      "Collecting image 5\n",
      "Collecting image 6\n",
      "Collecting image 7\n",
      "Collecting image 8\n",
      "Collecting image 9\n",
      "Collecting image 10\n",
      "Collecting image 11\n",
      "Collecting image 12\n",
      "Collecting image 13\n",
      "Collecting image 14\n",
      "Collecting image 15\n",
      "Collecting image 16\n",
      "Collecting image 17\n",
      "Collecting image 18\n",
      "Collecting image 19\n"
     ]
    }
   ],
   "source": [
    "for label in labels:\n",
    "    cap = cv2.VideoCapture(0)\n",
    "    print('Collecting images for {}'.format(label))\n",
    "    time.sleep(5)\n",
    "    for imgnum in range(number_imgs):\n",
    "        print('Collecting image {}'.format(imgnum))\n",
    "        ret, frame = cap.read()\n",
    "        imgname = os.path.join(IMAGES_PATH,label,label+'.'+'{}.jpg'.format(str(uuid.uuid1())))\n",
    "        cv2.imwrite(imgname, frame)\n",
    "        cv2.imshow('frame', frame)\n",
    "        time.sleep(2)\n",
    "\n",
    "        if cv2.waitKey(1) & 0xFF == ord('q'):\n",
    "            break\n",
    "cap.release()\n",
    "cv2.destroyAllWindows()"
   ]
  },
  {
   "cell_type": "markdown",
   "metadata": {},
   "source": [
    "# 5. Image Labelling"
   ]
  },
  {
   "cell_type": "code",
   "execution_count": 11,
   "metadata": {},
   "outputs": [
    {
     "name": "stdout",
     "output_type": "stream",
     "text": [
      "Requirement already satisfied: pyqt5 in c:\\tensorflow object detection\\tfodcourse\\tfod\\lib\\site-packages (5.15.4)\n",
      "Requirement already satisfied: lxml in c:\\tensorflow object detection\\tfodcourse\\tfod\\lib\\site-packages (4.6.3)\n",
      "Requirement already satisfied: PyQt5-Qt5>=5.15 in c:\\tensorflow object detection\\tfodcourse\\tfod\\lib\\site-packages (from pyqt5) (5.15.2)\n",
      "Requirement already satisfied: PyQt5-sip<13,>=12.8 in c:\\tensorflow object detection\\tfodcourse\\tfod\\lib\\site-packages (from pyqt5) (12.9.0)\n"
     ]
    }
   ],
   "source": [
    "!pip install --upgrade pyqt5 lxml"
   ]
  },
  {
   "cell_type": "code",
   "execution_count": 8,
   "metadata": {},
   "outputs": [],
   "source": [
    "LABELIMG_PATH = os.path.join('Tensorflow', 'labelimg')"
   ]
  },
  {
   "cell_type": "code",
   "execution_count": 9,
   "metadata": {},
   "outputs": [],
   "source": [
    "if not os.path.exists(LABELIMG_PATH):\n",
    "    !mkdir {LABELIMG_PATH}\n",
    "    !git clone https://github.com/tzutalin/labelImg {LABELIMG_PATH}"
   ]
  },
  {
   "cell_type": "code",
   "execution_count": 10,
   "metadata": {},
   "outputs": [],
   "source": [
    "if os.name == 'posix':\n",
    "    !make qt5py3\n",
    "if os.name =='nt':\n",
    "    !cd {LABELIMG_PATH} && pyrcc5 -o libs/resources.py resources.qrc"
   ]
  },
  {
   "cell_type": "code",
   "execution_count": 11,
   "metadata": {},
   "outputs": [
    {
     "name": "stdout",
     "output_type": "stream",
     "text": [
      "Image:C:\\Tensorflow object detection\\TFODCourse\\Tensorflow\\workspace\\images\\collectedimages\\ILOVEYOU\\ILOVEYOU.0a9ad0c3-c502-11eb-b488-142d27a5cc52.jpg -> Annotation:C:/Tensorflow object detection/TFODCourse/Tensorflow/workspace/images/collectedimages/ILOVEYOU\\ILOVEYOU.0a9ad0c3-c502-11eb-b488-142d27a5cc52.xml\n",
      "Image:C:\\Tensorflow object detection\\TFODCourse\\Tensorflow\\workspace\\images\\collectedimages\\ILOVEYOU\\ILOVEYOU.0bd2f48c-c502-11eb-b752-142d27a5cc52.jpg -> Annotation:C:/Tensorflow object detection/TFODCourse/Tensorflow/workspace/images/collectedimages/ILOVEYOU\\ILOVEYOU.0bd2f48c-c502-11eb-b752-142d27a5cc52.xml\n",
      "Image:C:\\Tensorflow object detection\\TFODCourse\\Tensorflow\\workspace\\images\\collectedimages\\ILOVEYOU\\ILOVEYOU.0d09af01-c502-11eb-bf1a-142d27a5cc52.jpg -> Annotation:C:/Tensorflow object detection/TFODCourse/Tensorflow/workspace/images/collectedimages/ILOVEYOU\\ILOVEYOU.0d09af01-c502-11eb-bf1a-142d27a5cc52.xml\n",
      "Image:C:\\Tensorflow object detection\\TFODCourse\\Tensorflow\\workspace\\images\\collectedimages\\ILOVEYOU\\ILOVEYOU.00e03bf6-c502-11eb-9193-142d27a5cc52.jpg -> Annotation:C:/Tensorflow object detection/TFODCourse/Tensorflow/workspace/images/collectedimages/ILOVEYOU\\ILOVEYOU.00e03bf6-c502-11eb-9193-142d27a5cc52.xml\n",
      "Image:C:\\Tensorflow object detection\\TFODCourse\\Tensorflow\\workspace\\images\\collectedimages\\ILOVEYOU\\ILOVEYOU.0f783dab-c502-11eb-a144-142d27a5cc52.jpg -> Annotation:C:/Tensorflow object detection/TFODCourse/Tensorflow/workspace/images/collectedimages/ILOVEYOU\\ILOVEYOU.0f783dab-c502-11eb-a144-142d27a5cc52.xml\n",
      "Cancel creation.\n",
      "Cancel creation.\n",
      "Image:C:\\Tensorflow object detection\\TFODCourse\\Tensorflow\\workspace\\images\\collectedimages\\ILOVEYOU\\ILOVEYOU.5a91f005-c503-11eb-bfe9-142d27a5cc52.jpg -> Annotation:C:/Tensorflow object detection/TFODCourse/Tensorflow/workspace/images/collectedimages/ILOVEYOU\\ILOVEYOU.5a91f005-c503-11eb-bfe9-142d27a5cc52.xml\n",
      "Image:C:\\Tensorflow object detection\\TFODCourse\\Tensorflow\\workspace\\images\\collectedimages\\ILOVEYOU\\ILOVEYOU.5bca6d60-c503-11eb-bab5-142d27a5cc52.jpg -> Annotation:C:/Tensorflow object detection/TFODCourse/Tensorflow/workspace/images/collectedimages/ILOVEYOU\\ILOVEYOU.5bca6d60-c503-11eb-bab5-142d27a5cc52.xml\n",
      "Image:C:\\Tensorflow object detection\\TFODCourse\\Tensorflow\\workspace\\images\\collectedimages\\ILOVEYOU\\ILOVEYOU.05bd370d-c502-11eb-b581-142d27a5cc52.jpg -> Annotation:C:/Tensorflow object detection/TFODCourse/Tensorflow/workspace/images/collectedimages/ILOVEYOU\\ILOVEYOU.05bd370d-c502-11eb-b581-142d27a5cc52.xml\n",
      "Image:C:\\Tensorflow object detection\\TFODCourse\\Tensorflow\\workspace\\images\\collectedimages\\ILOVEYOU\\ILOVEYOU.5d014feb-c503-11eb-b0c3-142d27a5cc52.jpg -> Annotation:C:/Tensorflow object detection/TFODCourse/Tensorflow/workspace/images/collectedimages/ILOVEYOU\\ILOVEYOU.5d014feb-c503-11eb-b0c3-142d27a5cc52.xml\n",
      "Image:C:\\Tensorflow object detection\\TFODCourse\\Tensorflow\\workspace\\images\\collectedimages\\ILOVEYOU\\ILOVEYOU.5e38c57b-c503-11eb-bb9f-142d27a5cc52.jpg -> Annotation:C:/Tensorflow object detection/TFODCourse/Tensorflow/workspace/images/collectedimages/ILOVEYOU\\ILOVEYOU.5e38c57b-c503-11eb-bb9f-142d27a5cc52.xml\n"
     ]
    },
    {
     "name": "stderr",
     "output_type": "stream",
     "text": [
      "labelImg.py:965: DeprecationWarning: an integer is required (got type float).  Implicit conversion to integers using __int__ is deprecated, and may be removed in a future version of Python.\n",
      "  bar.setValue(bar.value() + bar.singleStep() * units)\n"
     ]
    },
    {
     "name": "stdout",
     "output_type": "stream",
     "text": [
      "Image:C:\\Tensorflow object detection\\TFODCourse\\Tensorflow\\workspace\\images\\collectedimages\\ILOVEYOU\\ILOVEYOU.5f702164-c503-11eb-9d36-142d27a5cc52.jpg -> Annotation:C:/Tensorflow object detection/TFODCourse/Tensorflow/workspace/images/collectedimages/ILOVEYOU\\ILOVEYOU.5f702164-c503-11eb-9d36-142d27a5cc52.xml\n",
      "Image:C:\\Tensorflow object detection\\TFODCourse\\Tensorflow\\workspace\\images\\collectedimages\\ILOVEYOU\\ILOVEYOU.6a62a017-c503-11eb-8d98-142d27a5cc52.jpg -> Annotation:C:/Tensorflow object detection/TFODCourse/Tensorflow/workspace/images/collectedimages/ILOVEYOU\\ILOVEYOU.6a62a017-c503-11eb-8d98-142d27a5cc52.xml\n",
      "Image:C:\\Tensorflow object detection\\TFODCourse\\Tensorflow\\workspace\\images\\collectedimages\\ILOVEYOU\\ILOVEYOU.6b9a4c52-c503-11eb-82a1-142d27a5cc52.jpg -> Annotation:C:/Tensorflow object detection/TFODCourse/Tensorflow/workspace/images/collectedimages/ILOVEYOU\\ILOVEYOU.6b9a4c52-c503-11eb-82a1-142d27a5cc52.xml\n",
      "Cancel creation.\n",
      "Image:C:\\Tensorflow object detection\\TFODCourse\\Tensorflow\\workspace\\images\\collectedimages\\ILOVEYOU\\ILOVEYOU.06f47fb6-c502-11eb-a07f-142d27a5cc52.jpg -> Annotation:C:/Tensorflow object detection/TFODCourse/Tensorflow/workspace/images/collectedimages/ILOVEYOU\\ILOVEYOU.06f47fb6-c502-11eb-a07f-142d27a5cc52.xml\n",
      "Image:C:\\Tensorflow object detection\\TFODCourse\\Tensorflow\\workspace\\images\\collectedimages\\ILOVEYOU\\ILOVEYOU.10aec4fb-c502-11eb-a87d-142d27a5cc52.jpg -> Annotation:C:/Tensorflow object detection/TFODCourse/Tensorflow/workspace/images/collectedimages/ILOVEYOU\\ILOVEYOU.10aec4fb-c502-11eb-a87d-142d27a5cc52.xml\n",
      "Image:C:\\Tensorflow object detection\\TFODCourse\\Tensorflow\\workspace\\images\\collectedimages\\ILOVEYOU\\ILOVEYOU.11e63fe8-c502-11eb-9e98-142d27a5cc52.jpg -> Annotation:C:/Tensorflow object detection/TFODCourse/Tensorflow/workspace/images/collectedimages/ILOVEYOU\\ILOVEYOU.11e63fe8-c502-11eb-9e98-142d27a5cc52.xml\n",
      "Image:C:\\Tensorflow object detection\\TFODCourse\\Tensorflow\\workspace\\images\\collectedimages\\ILOVEYOU\\ILOVEYOU.034e3af2-c502-11eb-815d-142d27a5cc52.jpg -> Annotation:C:/Tensorflow object detection/TFODCourse/Tensorflow/workspace/images/collectedimages/ILOVEYOU\\ILOVEYOU.034e3af2-c502-11eb-815d-142d27a5cc52.xml\n",
      "Image:C:\\Tensorflow object detection\\TFODCourse\\Tensorflow\\workspace\\images\\collectedimages\\ILOVEYOU\\ILOVEYOU.55b0091a-c503-11eb-bb1f-142d27a5cc52.jpg -> Annotation:C:/Tensorflow object detection/TFODCourse/Tensorflow/workspace/images/collectedimages/ILOVEYOU\\ILOVEYOU.55b0091a-c503-11eb-bb1f-142d27a5cc52.xml\n",
      "Image:C:\\Tensorflow object detection\\TFODCourse\\Tensorflow\\workspace\\images\\collectedimages\\ILOVEYOU\\ILOVEYOU.56e94969-c503-11eb-a5b2-142d27a5cc52.jpg -> Annotation:C:/Tensorflow object detection/TFODCourse/Tensorflow/workspace/images/collectedimages/ILOVEYOU\\ILOVEYOU.56e94969-c503-11eb-a5b2-142d27a5cc52.xml\n",
      "Cancel creation.\n",
      "Image:C:\\Tensorflow object detection\\TFODCourse\\Tensorflow\\workspace\\images\\collectedimages\\ILOVEYOU\\ILOVEYOU.60a70116-c503-11eb-8b3f-142d27a5cc52.jpg -> Annotation:C:/Tensorflow object detection/TFODCourse/Tensorflow/workspace/images/collectedimages/ILOVEYOU\\ILOVEYOU.60a70116-c503-11eb-8b3f-142d27a5cc52.xml\n",
      "Image:C:\\Tensorflow object detection\\TFODCourse\\Tensorflow\\workspace\\images\\collectedimages\\ILOVEYOU\\ILOVEYOU.66bd85a5-c503-11eb-a684-142d27a5cc52.jpg -> Annotation:C:/Tensorflow object detection/TFODCourse/Tensorflow/workspace/images/collectedimages/ILOVEYOU\\ILOVEYOU.66bd85a5-c503-11eb-a684-142d27a5cc52.xml\n",
      "Image:C:\\Tensorflow object detection\\TFODCourse\\Tensorflow\\workspace\\images\\collectedimages\\ILOVEYOU\\ILOVEYOU.67f417a0-c503-11eb-8ade-142d27a5cc52.jpg -> Annotation:C:/Tensorflow object detection/TFODCourse/Tensorflow/workspace/images/collectedimages/ILOVEYOU\\ILOVEYOU.67f417a0-c503-11eb-8ade-142d27a5cc52.xml\n",
      "Cancel creation.\n",
      "Image:C:\\Tensorflow object detection\\TFODCourse\\Tensorflow\\workspace\\images\\collectedimages\\ILOVEYOU\\ILOVEYOU.082bae00-c502-11eb-afae-142d27a5cc52.jpg -> Annotation:C:/Tensorflow object detection/TFODCourse/Tensorflow/workspace/images/collectedimages/ILOVEYOU\\ILOVEYOU.082bae00-c502-11eb-afae-142d27a5cc52.xml\n",
      "Image:C:\\Tensorflow object detection\\TFODCourse\\Tensorflow\\workspace\\images\\collectedimages\\ILOVEYOU\\ILOVEYOU.145aafbb-c502-11eb-93d0-142d27a5cc52.jpg -> Annotation:C:/Tensorflow object detection/TFODCourse/Tensorflow/workspace/images/collectedimages/ILOVEYOU\\ILOVEYOU.145aafbb-c502-11eb-93d0-142d27a5cc52.xml\n",
      "Image:C:\\Tensorflow object detection\\TFODCourse\\Tensorflow\\workspace\\images\\collectedimages\\ILOVEYOU\\ILOVEYOU.0217bc99-c502-11eb-b781-142d27a5cc52.jpg -> Annotation:C:/Tensorflow object detection/TFODCourse/Tensorflow/workspace/images/collectedimages/ILOVEYOU\\ILOVEYOU.0217bc99-c502-11eb-b781-142d27a5cc52.xml\n",
      "Image:C:\\Tensorflow object detection\\TFODCourse\\Tensorflow\\workspace\\images\\collectedimages\\ILOVEYOU\\ILOVEYOU.0485ed10-c502-11eb-887e-142d27a5cc52.jpg -> Annotation:C:/Tensorflow object detection/TFODCourse/Tensorflow/workspace/images/collectedimages/ILOVEYOU\\ILOVEYOU.0485ed10-c502-11eb-887e-142d27a5cc52.xml\n",
      "Cancel creation.\n",
      "Cancel creation.\n",
      "Image:C:\\Tensorflow object detection\\TFODCourse\\Tensorflow\\workspace\\images\\collectedimages\\ILOVEYOU\\ILOVEYOU.546cc333-c503-11eb-ac40-142d27a5cc52.jpg -> Annotation:C:/Tensorflow object detection/TFODCourse/Tensorflow/workspace/images/collectedimages/ILOVEYOU\\ILOVEYOU.546cc333-c503-11eb-ac40-142d27a5cc52.xml\n",
      "Image:C:\\Tensorflow object detection\\TFODCourse\\Tensorflow\\workspace\\images\\collectedimages\\ILOVEYOU\\ILOVEYOU.644dd9cc-c503-11eb-8fce-142d27a5cc52.jpg -> Annotation:C:/Tensorflow object detection/TFODCourse/Tensorflow/workspace/images/collectedimages/ILOVEYOU\\ILOVEYOU.644dd9cc-c503-11eb-8fce-142d27a5cc52.xml\n",
      "Cancel creation.\n",
      "Image:C:\\Tensorflow object detection\\TFODCourse\\Tensorflow\\workspace\\images\\collectedimages\\ILOVEYOU\\ILOVEYOU.0962f7f6-c502-11eb-bbb1-142d27a5cc52.jpg -> Annotation:C:/Tensorflow object detection/TFODCourse/Tensorflow/workspace/images/collectedimages/ILOVEYOU\\ILOVEYOU.0962f7f6-c502-11eb-bbb1-142d27a5cc52.xml\n",
      "Image:C:\\Tensorflow object detection\\TFODCourse\\Tensorflow\\workspace\\images\\collectedimages\\ILOVEYOU\\ILOVEYOU.1322fc60-c502-11eb-a540-142d27a5cc52.jpg -> Annotation:C:/Tensorflow object detection/TFODCourse/Tensorflow/workspace/images/collectedimages/ILOVEYOU\\ILOVEYOU.1322fc60-c502-11eb-a540-142d27a5cc52.xml\n",
      "Image:C:\\Tensorflow object detection\\TFODCourse\\Tensorflow\\workspace\\images\\collectedimages\\ILOVEYOU\\ILOVEYOU.63159d9e-c503-11eb-980d-142d27a5cc52.jpg -> Annotation:C:/Tensorflow object detection/TFODCourse/Tensorflow/workspace/images/collectedimages/ILOVEYOU\\ILOVEYOU.63159d9e-c503-11eb-980d-142d27a5cc52.xml\n",
      "Image:C:\\Tensorflow object detection\\TFODCourse\\Tensorflow\\workspace\\images\\collectedimages\\ILOVEYOU\\ILOVEYOU.582030a2-c503-11eb-a492-142d27a5cc52.jpg -> Annotation:C:/Tensorflow object detection/TFODCourse/Tensorflow/workspace/images/collectedimages/ILOVEYOU\\ILOVEYOU.582030a2-c503-11eb-a492-142d27a5cc52.xml\n",
      "Image:C:\\Tensorflow object detection\\TFODCourse\\Tensorflow\\workspace\\images\\collectedimages\\ILOVEYOU\\ILOVEYOU.5958849a-c503-11eb-a9e6-142d27a5cc52.jpg -> Annotation:C:/Tensorflow object detection/TFODCourse/Tensorflow/workspace/images/collectedimages/ILOVEYOU\\ILOVEYOU.5958849a-c503-11eb-a9e6-142d27a5cc52.xml\n",
      "Image:C:\\Tensorflow object detection\\TFODCourse\\Tensorflow\\workspace\\images\\collectedimages\\ILOVEYOU\\ILOVEYOU.15922211-c502-11eb-9b42-142d27a5cc52.jpg -> Annotation:C:/Tensorflow object detection/TFODCourse/Tensorflow/workspace/images/collectedimages/ILOVEYOU\\ILOVEYOU.15922211-c502-11eb-9b42-142d27a5cc52.xml\n",
      "Image:C:\\Tensorflow object detection\\TFODCourse\\Tensorflow\\workspace\\images\\collectedimages\\ILOVEYOU\\ILOVEYOU.65853385-c503-11eb-b518-142d27a5cc52.jpg -> Annotation:C:/Tensorflow object detection/TFODCourse/Tensorflow/workspace/images/collectedimages/ILOVEYOU\\ILOVEYOU.65853385-c503-11eb-b518-142d27a5cc52.xml\n",
      "Image:C:\\Tensorflow object detection\\TFODCourse\\Tensorflow\\workspace\\images\\collectedimages\\Love_Is_Dead_Marriages_Are_Basically_Funnel_With_Cake\\Love_Is_Dead_Marriages_Are_Basically_Funnel_With_Cake.6b1ff5d6-c502-11eb-9066-142d27a5cc52.jpg -> Annotation:C:/Tensorflow object detection/TFODCourse/Tensorflow/workspace/images/collectedimages/Love_Is_Dead_Marriages_Are_Basically_Funnel_With_Cake\\Love_Is_Dead_Marriages_Are_Basically_Funnel_With_Cake.6b1ff5d6-c502-11eb-9066-142d27a5cc52.xml\n",
      "Image:C:\\Tensorflow object detection\\TFODCourse\\Tensorflow\\workspace\\images\\collectedimages\\Love_Is_Dead_Marriages_Are_Basically_Funnel_With_Cake\\Love_Is_Dead_Marriages_Are_Basically_Funnel_With_Cake.6c5a9a36-c502-11eb-ae7c-142d27a5cc52.jpg -> Annotation:C:/Tensorflow object detection/TFODCourse/Tensorflow/workspace/images/collectedimages/Love_Is_Dead_Marriages_Are_Basically_Funnel_With_Cake\\Love_Is_Dead_Marriages_Are_Basically_Funnel_With_Cake.6c5a9a36-c502-11eb-ae7c-142d27a5cc52.xml\n",
      "Image:C:\\Tensorflow object detection\\TFODCourse\\Tensorflow\\workspace\\images\\collectedimages\\Love_Is_Dead_Marriages_Are_Basically_Funnel_With_Cake\\Love_Is_Dead_Marriages_Are_Basically_Funnel_With_Cake.6d933238-c502-11eb-990a-142d27a5cc52.jpg -> Annotation:C:/Tensorflow object detection/TFODCourse/Tensorflow/workspace/images/collectedimages/Love_Is_Dead_Marriages_Are_Basically_Funnel_With_Cake\\Love_Is_Dead_Marriages_Are_Basically_Funnel_With_Cake.6d933238-c502-11eb-990a-142d27a5cc52.xml\n",
      "Image:C:\\Tensorflow object detection\\TFODCourse\\Tensorflow\\workspace\\images\\collectedimages\\Love_Is_Dead_Marriages_Are_Basically_Funnel_With_Cake\\Love_Is_Dead_Marriages_Are_Basically_Funnel_With_Cake.6ecadf83-c502-11eb-9309-142d27a5cc52.jpg -> Annotation:C:/Tensorflow object detection/TFODCourse/Tensorflow/workspace/images/collectedimages/Love_Is_Dead_Marriages_Are_Basically_Funnel_With_Cake\\Love_Is_Dead_Marriages_Are_Basically_Funnel_With_Cake.6ecadf83-c502-11eb-9309-142d27a5cc52.xml\n"
     ]
    },
    {
     "name": "stdout",
     "output_type": "stream",
     "text": [
      "Image:C:\\Tensorflow object detection\\TFODCourse\\Tensorflow\\workspace\\images\\collectedimages\\Love_Is_Dead_Marriages_Are_Basically_Funnel_With_Cake\\Love_Is_Dead_Marriages_Are_Basically_Funnel_With_Cake.63d42c31-c502-11eb-84fe-142d27a5cc52.jpg -> Annotation:C:/Tensorflow object detection/TFODCourse/Tensorflow/workspace/images/collectedimages/Love_Is_Dead_Marriages_Are_Basically_Funnel_With_Cake\\Love_Is_Dead_Marriages_Are_Basically_Funnel_With_Cake.63d42c31-c502-11eb-84fe-142d27a5cc52.xml\n",
      "Image:C:\\Tensorflow object detection\\TFODCourse\\Tensorflow\\workspace\\images\\collectedimages\\Love_Is_Dead_Marriages_Are_Basically_Funnel_With_Cake\\Love_Is_Dead_Marriages_Are_Basically_Funnel_With_Cake.68b18d06-c502-11eb-af68-142d27a5cc52.jpg -> Annotation:C:/Tensorflow object detection/TFODCourse/Tensorflow/workspace/images/collectedimages/Love_Is_Dead_Marriages_Are_Basically_Funnel_With_Cake\\Love_Is_Dead_Marriages_Are_Basically_Funnel_With_Cake.68b18d06-c502-11eb-af68-142d27a5cc52.xml\n",
      "Image:C:\\Tensorflow object detection\\TFODCourse\\Tensorflow\\workspace\\images\\collectedimages\\Love_Is_Dead_Marriages_Are_Basically_Funnel_With_Cake\\Love_Is_Dead_Marriages_Are_Basically_Funnel_With_Cake.69e96ec9-c502-11eb-bb6e-142d27a5cc52.jpg -> Annotation:C:/Tensorflow object detection/TFODCourse/Tensorflow/workspace/images/collectedimages/Love_Is_Dead_Marriages_Are_Basically_Funnel_With_Cake\\Love_Is_Dead_Marriages_Are_Basically_Funnel_With_Cake.69e96ec9-c502-11eb-bb6e-142d27a5cc52.xml\n",
      "Image:C:\\Tensorflow object detection\\TFODCourse\\Tensorflow\\workspace\\images\\collectedimages\\Love_Is_Dead_Marriages_Are_Basically_Funnel_With_Cake\\Love_Is_Dead_Marriages_Are_Basically_Funnel_With_Cake.73b0e124-c502-11eb-8914-142d27a5cc52.jpg -> Annotation:C:/Tensorflow object detection/TFODCourse/Tensorflow/workspace/images/collectedimages/Love_Is_Dead_Marriages_Are_Basically_Funnel_With_Cake\\Love_Is_Dead_Marriages_Are_Basically_Funnel_With_Cake.73b0e124-c502-11eb-8914-142d27a5cc52.xml\n",
      "Image:C:\\Tensorflow object detection\\TFODCourse\\Tensorflow\\workspace\\images\\collectedimages\\Love_Is_Dead_Marriages_Are_Basically_Funnel_With_Cake\\Love_Is_Dead_Marriages_Are_Basically_Funnel_With_Cake.73b0e124-c502-11eb-8914-142d27a5cc52.jpg -> Annotation:C:/Tensorflow object detection/TFODCourse/Tensorflow/workspace/images/collectedimages/Love_Is_Dead_Marriages_Are_Basically_Funnel_With_Cake\\Love_Is_Dead_Marriages_Are_Basically_Funnel_With_Cake.73b0e124-c502-11eb-8914-142d27a5cc52.xml\n",
      "Image:C:\\Tensorflow object detection\\TFODCourse\\Tensorflow\\workspace\\images\\collectedimages\\Love_Is_Dead_Marriages_Are_Basically_Funnel_With_Cake\\Love_Is_Dead_Marriages_Are_Basically_Funnel_With_Cake.69e96ec9-c502-11eb-bb6e-142d27a5cc52.jpg -> Annotation:C:/Tensorflow object detection/TFODCourse/Tensorflow/workspace/images/collectedimages/Love_Is_Dead_Marriages_Are_Basically_Funnel_With_Cake\\Love_Is_Dead_Marriages_Are_Basically_Funnel_With_Cake.69e96ec9-c502-11eb-bb6e-142d27a5cc52.xml\n",
      "Image:C:\\Tensorflow object detection\\TFODCourse\\Tensorflow\\workspace\\images\\collectedimages\\Love_Is_Dead_Marriages_Are_Basically_Funnel_With_Cake\\Love_Is_Dead_Marriages_Are_Basically_Funnel_With_Cake.74e8e0d3-c502-11eb-8eb5-142d27a5cc52.jpg -> Annotation:C:/Tensorflow object detection/TFODCourse/Tensorflow/workspace/images/collectedimages/Love_Is_Dead_Marriages_Are_Basically_Funnel_With_Cake\\Love_Is_Dead_Marriages_Are_Basically_Funnel_With_Cake.74e8e0d3-c502-11eb-8eb5-142d27a5cc52.xml\n",
      "Image:C:\\Tensorflow object detection\\TFODCourse\\Tensorflow\\workspace\\images\\collectedimages\\Love_Is_Dead_Marriages_Are_Basically_Funnel_With_Cake\\Love_Is_Dead_Marriages_Are_Basically_Funnel_With_Cake.629c1d75-c502-11eb-a1fd-142d27a5cc52.jpg -> Annotation:C:/Tensorflow object detection/TFODCourse/Tensorflow/workspace/images/collectedimages/Love_Is_Dead_Marriages_Are_Basically_Funnel_With_Cake\\Love_Is_Dead_Marriages_Are_Basically_Funnel_With_Cake.629c1d75-c502-11eb-a1fd-142d27a5cc52.xml\n",
      "Image:C:\\Tensorflow object detection\\TFODCourse\\Tensorflow\\workspace\\images\\collectedimages\\Love_Is_Dead_Marriages_Are_Basically_Funnel_With_Cake\\Love_Is_Dead_Marriages_Are_Basically_Funnel_With_Cake.650c6d8d-c502-11eb-8d2e-142d27a5cc52.jpg -> Annotation:C:/Tensorflow object detection/TFODCourse/Tensorflow/workspace/images/collectedimages/Love_Is_Dead_Marriages_Are_Basically_Funnel_With_Cake\\Love_Is_Dead_Marriages_Are_Basically_Funnel_With_Cake.650c6d8d-c502-11eb-8d2e-142d27a5cc52.xml\n",
      "Image:C:\\Tensorflow object detection\\TFODCourse\\Tensorflow\\workspace\\images\\collectedimages\\Love_Is_Dead_Marriages_Are_Basically_Funnel_With_Cake\\Love_Is_Dead_Marriages_Are_Basically_Funnel_With_Cake.677ac702-c502-11eb-af5d-142d27a5cc52.jpg -> Annotation:C:/Tensorflow object detection/TFODCourse/Tensorflow/workspace/images/collectedimages/Love_Is_Dead_Marriages_Are_Basically_Funnel_With_Cake\\Love_Is_Dead_Marriages_Are_Basically_Funnel_With_Cake.677ac702-c502-11eb-af5d-142d27a5cc52.xml\n",
      "Cancel creation.\n",
      "Image:C:\\Tensorflow object detection\\TFODCourse\\Tensorflow\\workspace\\images\\collectedimages\\Love_Is_Dead_Marriages_Are_Basically_Funnel_With_Cake\\Love_Is_Dead_Marriages_Are_Basically_Funnel_With_Cake.713a4698-c502-11eb-842a-142d27a5cc52.jpg -> Annotation:C:/Tensorflow object detection/TFODCourse/Tensorflow/workspace/images/collectedimages/Love_Is_Dead_Marriages_Are_Basically_Funnel_With_Cake\\Love_Is_Dead_Marriages_Are_Basically_Funnel_With_Cake.713a4698-c502-11eb-842a-142d27a5cc52.xml\n",
      "Image:C:\\Tensorflow object detection\\TFODCourse\\Tensorflow\\workspace\\images\\collectedimages\\Love_Is_Dead_Marriages_Are_Basically_Funnel_With_Cake\\Love_Is_Dead_Marriages_Are_Basically_Funnel_With_Cake.6020eceb-c502-11eb-b310-142d27a5cc52.jpg -> Annotation:C:/Tensorflow object detection/TFODCourse/Tensorflow/workspace/images/collectedimages/Love_Is_Dead_Marriages_Are_Basically_Funnel_With_Cake\\Love_Is_Dead_Marriages_Are_Basically_Funnel_With_Cake.6020eceb-c502-11eb-b310-142d27a5cc52.xml\n",
      "Image:C:\\Tensorflow object detection\\TFODCourse\\Tensorflow\\workspace\\images\\collectedimages\\Love_Is_Dead_Marriages_Are_Basically_Funnel_With_Cake\\Love_Is_Dead_Marriages_Are_Basically_Funnel_With_Cake.6163a6f1-c502-11eb-8276-142d27a5cc52.jpg -> Annotation:C:/Tensorflow object detection/TFODCourse/Tensorflow/workspace/images/collectedimages/Love_Is_Dead_Marriages_Are_Basically_Funnel_With_Cake\\Love_Is_Dead_Marriages_Are_Basically_Funnel_With_Cake.6163a6f1-c502-11eb-8276-142d27a5cc52.xml\n",
      "Image:C:\\Tensorflow object detection\\TFODCourse\\Tensorflow\\workspace\\images\\collectedimages\\Love_Is_Dead_Marriages_Are_Basically_Funnel_With_Cake\\Love_Is_Dead_Marriages_Are_Basically_Funnel_With_Cake.7622f098-c502-11eb-910e-142d27a5cc52.jpg -> Annotation:C:/Tensorflow object detection/TFODCourse/Tensorflow/workspace/images/collectedimages/Love_Is_Dead_Marriages_Are_Basically_Funnel_With_Cake\\Love_Is_Dead_Marriages_Are_Basically_Funnel_With_Cake.7622f098-c502-11eb-910e-142d27a5cc52.xml\n",
      "Image:C:\\Tensorflow object detection\\TFODCourse\\Tensorflow\\workspace\\images\\collectedimages\\Love_Is_Dead_Marriages_Are_Basically_Funnel_With_Cake\\Love_Is_Dead_Marriages_Are_Basically_Funnel_With_Cake.727646ff-c502-11eb-af45-142d27a5cc52.jpg -> Annotation:C:/Tensorflow object detection/TFODCourse/Tensorflow/workspace/images/collectedimages/Love_Is_Dead_Marriages_Are_Basically_Funnel_With_Cake\\Love_Is_Dead_Marriages_Are_Basically_Funnel_With_Cake.727646ff-c502-11eb-af45-142d27a5cc52.xml\n",
      "Image:C:\\Tensorflow object detection\\TFODCourse\\Tensorflow\\workspace\\images\\collectedimages\\Love_Is_Dead_Marriages_Are_Basically_Funnel_With_Cake\\Love_Is_Dead_Marriages_Are_Basically_Funnel_With_Cake.7002898b-c502-11eb-a14d-142d27a5cc52.jpg -> Annotation:C:/Tensorflow object detection/TFODCourse/Tensorflow/workspace/images/collectedimages/Love_Is_Dead_Marriages_Are_Basically_Funnel_With_Cake\\Love_Is_Dead_Marriages_Are_Basically_Funnel_With_Cake.7002898b-c502-11eb-a14d-142d27a5cc52.xml\n",
      "Image:C:\\Tensorflow object detection\\TFODCourse\\Tensorflow\\workspace\\images\\collectedimages\\Love_Is_Dead_Marriages_Are_Basically_Funnel_With_Cake\\Love_Is_Dead_Marriages_Are_Basically_Funnel_With_Cake.66430855-c502-11eb-9145-142d27a5cc52.jpg -> Annotation:C:/Tensorflow object detection/TFODCourse/Tensorflow/workspace/images/collectedimages/Love_Is_Dead_Marriages_Are_Basically_Funnel_With_Cake\\Love_Is_Dead_Marriages_Are_Basically_Funnel_With_Cake.66430855-c502-11eb-9145-142d27a5cc52.xml\n",
      "Image:C:\\Tensorflow object detection\\TFODCourse\\Tensorflow\\workspace\\images\\collectedimages\\Love_Is_Dead_Marriages_Are_Basically_Funnel_With_Cake\\Love_Is_Dead_Marriages_Are_Basically_Funnel_With_Cake.b6c74b28-c503-11eb-ab6a-142d27a5cc52.jpg -> Annotation:C:/Tensorflow object detection/TFODCourse/Tensorflow/workspace/images/collectedimages/Love_Is_Dead_Marriages_Are_Basically_Funnel_With_Cake\\Love_Is_Dead_Marriages_Are_Basically_Funnel_With_Cake.b6c74b28-c503-11eb-ab6a-142d27a5cc52.xml\n",
      "Image:C:\\Tensorflow object detection\\TFODCourse\\Tensorflow\\workspace\\images\\collectedimages\\Love_Is_Dead_Marriages_Are_Basically_Funnel_With_Cake\\Love_Is_Dead_Marriages_Are_Basically_Funnel_With_Cake.b7fe0a11-c503-11eb-a9b9-142d27a5cc52.jpg -> Annotation:C:/Tensorflow object detection/TFODCourse/Tensorflow/workspace/images/collectedimages/Love_Is_Dead_Marriages_Are_Basically_Funnel_With_Cake\\Love_Is_Dead_Marriages_Are_Basically_Funnel_With_Cake.b7fe0a11-c503-11eb-a9b9-142d27a5cc52.xml\n",
      "Image:C:\\Tensorflow object detection\\TFODCourse\\Tensorflow\\workspace\\images\\collectedimages\\Love_Is_Dead_Marriages_Are_Basically_Funnel_With_Cake\\Love_Is_Dead_Marriages_Are_Basically_Funnel_With_Cake.b58eb1d3-c503-11eb-908c-142d27a5cc52.jpg -> Annotation:C:/Tensorflow object detection/TFODCourse/Tensorflow/workspace/images/collectedimages/Love_Is_Dead_Marriages_Are_Basically_Funnel_With_Cake\\Love_Is_Dead_Marriages_Are_Basically_Funnel_With_Cake.b58eb1d3-c503-11eb-908c-142d27a5cc52.xml\n",
      "Image:C:\\Tensorflow object detection\\TFODCourse\\Tensorflow\\workspace\\images\\collectedimages\\Love_Is_Dead_Marriages_Are_Basically_Funnel_With_Cake\\Love_Is_Dead_Marriages_Are_Basically_Funnel_With_Cake.b935a68a-c503-11eb-b1e2-142d27a5cc52.jpg -> Annotation:C:/Tensorflow object detection/TFODCourse/Tensorflow/workspace/images/collectedimages/Love_Is_Dead_Marriages_Are_Basically_Funnel_With_Cake\\Love_Is_Dead_Marriages_Are_Basically_Funnel_With_Cake.b935a68a-c503-11eb-b1e2-142d27a5cc52.xml\n",
      "Image:C:\\Tensorflow object detection\\TFODCourse\\Tensorflow\\workspace\\images\\collectedimages\\Love_Is_Dead_Marriages_Are_Basically_Funnel_With_Cake\\Love_Is_Dead_Marriages_Are_Basically_Funnel_With_Cake.ba6c292f-c503-11eb-b2c3-142d27a5cc52.jpg -> Annotation:C:/Tensorflow object detection/TFODCourse/Tensorflow/workspace/images/collectedimages/Love_Is_Dead_Marriages_Are_Basically_Funnel_With_Cake\\Love_Is_Dead_Marriages_Are_Basically_Funnel_With_Cake.ba6c292f-c503-11eb-b2c3-142d27a5cc52.xml\n",
      "Image:C:\\Tensorflow object detection\\TFODCourse\\Tensorflow\\workspace\\images\\collectedimages\\Love_Is_Dead_Marriages_Are_Basically_Funnel_With_Cake\\Love_Is_Dead_Marriages_Are_Basically_Funnel_With_Cake.bbb084bd-c503-11eb-93cb-142d27a5cc52.jpg -> Annotation:C:/Tensorflow object detection/TFODCourse/Tensorflow/workspace/images/collectedimages/Love_Is_Dead_Marriages_Are_Basically_Funnel_With_Cake\\Love_Is_Dead_Marriages_Are_Basically_Funnel_With_Cake.bbb084bd-c503-11eb-93cb-142d27a5cc52.xml\n",
      "Image:C:\\Tensorflow object detection\\TFODCourse\\Tensorflow\\workspace\\images\\collectedimages\\Love_Is_Dead_Marriages_Are_Basically_Funnel_With_Cake\\Love_Is_Dead_Marriages_Are_Basically_Funnel_With_Cake.bce72569-c503-11eb-8913-142d27a5cc52.jpg -> Annotation:C:/Tensorflow object detection/TFODCourse/Tensorflow/workspace/images/collectedimages/Love_Is_Dead_Marriages_Are_Basically_Funnel_With_Cake\\Love_Is_Dead_Marriages_Are_Basically_Funnel_With_Cake.bce72569-c503-11eb-8913-142d27a5cc52.xml\n",
      "Cancel creation.\n",
      "Cancel creation.\n",
      "Image:C:\\Tensorflow object detection\\TFODCourse\\Tensorflow\\workspace\\images\\collectedimages\\Love_Is_Dead_Marriages_Are_Basically_Funnel_With_Cake\\Love_Is_Dead_Marriages_Are_Basically_Funnel_With_Cake.bf6278a6-c503-11eb-86fb-142d27a5cc52.jpg -> Annotation:C:/Tensorflow object detection/TFODCourse/Tensorflow/workspace/images/collectedimages/Love_Is_Dead_Marriages_Are_Basically_Funnel_With_Cake\\Love_Is_Dead_Marriages_Are_Basically_Funnel_With_Cake.bf6278a6-c503-11eb-86fb-142d27a5cc52.xml\n",
      "Image:C:\\Tensorflow object detection\\TFODCourse\\Tensorflow\\workspace\\images\\collectedimages\\Love_Is_Dead_Marriages_Are_Basically_Funnel_With_Cake\\Love_Is_Dead_Marriages_Are_Basically_Funnel_With_Cake.c6c203fd-c503-11eb-91ea-142d27a5cc52.jpg -> Annotation:C:/Tensorflow object detection/TFODCourse/Tensorflow/workspace/images/collectedimages/Love_Is_Dead_Marriages_Are_Basically_Funnel_With_Cake\\Love_Is_Dead_Marriages_Are_Basically_Funnel_With_Cake.c6c203fd-c503-11eb-91ea-142d27a5cc52.xml\n",
      "Image:C:\\Tensorflow object detection\\TFODCourse\\Tensorflow\\workspace\\images\\collectedimages\\Love_Is_Dead_Marriages_Are_Basically_Funnel_With_Cake\\Love_Is_Dead_Marriages_Are_Basically_Funnel_With_Cake.c9a0155f-c503-11eb-a439-142d27a5cc52.jpg -> Annotation:C:/Tensorflow object detection/TFODCourse/Tensorflow/workspace/images/collectedimages/Love_Is_Dead_Marriages_Are_Basically_Funnel_With_Cake\\Love_Is_Dead_Marriages_Are_Basically_Funnel_With_Cake.c9a0155f-c503-11eb-a439-142d27a5cc52.xml\n",
      "Image:C:\\Tensorflow object detection\\TFODCourse\\Tensorflow\\workspace\\images\\collectedimages\\Love_Is_Dead_Marriages_Are_Basically_Funnel_With_Cake\\Love_Is_Dead_Marriages_Are_Basically_Funnel_With_Cake.c09aa8df-c503-11eb-850d-142d27a5cc52.jpg -> Annotation:C:/Tensorflow object detection/TFODCourse/Tensorflow/workspace/images/collectedimages/Love_Is_Dead_Marriages_Are_Basically_Funnel_With_Cake\\Love_Is_Dead_Marriages_Are_Basically_Funnel_With_Cake.c09aa8df-c503-11eb-850d-142d27a5cc52.xml\n",
      "Image:C:\\Tensorflow object detection\\TFODCourse\\Tensorflow\\workspace\\images\\collectedimages\\Love_Is_Dead_Marriages_Are_Basically_Funnel_With_Cake\\Love_Is_Dead_Marriages_Are_Basically_Funnel_With_Cake.c440d38c-c503-11eb-97e5-142d27a5cc52.jpg -> Annotation:C:/Tensorflow object detection/TFODCourse/Tensorflow/workspace/images/collectedimages/Love_Is_Dead_Marriages_Are_Basically_Funnel_With_Cake\\Love_Is_Dead_Marriages_Are_Basically_Funnel_With_Cake.c440d38c-c503-11eb-97e5-142d27a5cc52.xml\n",
      "Image:C:\\Tensorflow object detection\\TFODCourse\\Tensorflow\\workspace\\images\\collectedimages\\Love_Is_Dead_Marriages_Are_Basically_Funnel_With_Cake\\Love_Is_Dead_Marriages_Are_Basically_Funnel_With_Cake.c869a250-c503-11eb-afb0-142d27a5cc52.jpg -> Annotation:C:/Tensorflow object detection/TFODCourse/Tensorflow/workspace/images/collectedimages/Love_Is_Dead_Marriages_Are_Basically_Funnel_With_Cake\\Love_Is_Dead_Marriages_Are_Basically_Funnel_With_Cake.c869a250-c503-11eb-afb0-142d27a5cc52.xml\n",
      "Image:C:\\Tensorflow object detection\\TFODCourse\\Tensorflow\\workspace\\images\\collectedimages\\Love_Is_Dead_Marriages_Are_Basically_Funnel_With_Cake\\Love_Is_Dead_Marriages_Are_Basically_Funnel_With_Cake.c5779017-c503-11eb-b3a7-142d27a5cc52.jpg -> Annotation:C:/Tensorflow object detection/TFODCourse/Tensorflow/workspace/images/collectedimages/Love_Is_Dead_Marriages_Are_Basically_Funnel_With_Cake\\Love_Is_Dead_Marriages_Are_Basically_Funnel_With_Cake.c5779017-c503-11eb-b3a7-142d27a5cc52.xml\n",
      "Image:C:\\Tensorflow object detection\\TFODCourse\\Tensorflow\\workspace\\images\\collectedimages\\Love_Is_Dead_Marriages_Are_Basically_Funnel_With_Cake\\Love_Is_Dead_Marriages_Are_Basically_Funnel_With_Cake.cad5e8e9-c503-11eb-b85e-142d27a5cc52.jpg -> Annotation:C:/Tensorflow object detection/TFODCourse/Tensorflow/workspace/images/collectedimages/Love_Is_Dead_Marriages_Are_Basically_Funnel_With_Cake\\Love_Is_Dead_Marriages_Are_Basically_Funnel_With_Cake.cad5e8e9-c503-11eb-b85e-142d27a5cc52.xml\n",
      "Image:C:\\Tensorflow object detection\\TFODCourse\\Tensorflow\\workspace\\images\\collectedimages\\Love_Is_Dead_Marriages_Are_Basically_Funnel_With_Cake\\Love_Is_Dead_Marriages_Are_Basically_Funnel_With_Cake.cc0d89f0-c503-11eb-8edb-142d27a5cc52.jpg -> Annotation:C:/Tensorflow object detection/TFODCourse/Tensorflow/workspace/images/collectedimages/Love_Is_Dead_Marriages_Are_Basically_Funnel_With_Cake\\Love_Is_Dead_Marriages_Are_Basically_Funnel_With_Cake.cc0d89f0-c503-11eb-8edb-142d27a5cc52.xml\n",
      "Image:C:\\Tensorflow object detection\\TFODCourse\\Tensorflow\\workspace\\images\\collectedimages\\Love_Is_Dead_Marriages_Are_Basically_Funnel_With_Cake\\Love_Is_Dead_Marriages_Are_Basically_Funnel_With_Cake.cd453649-c503-11eb-a2b7-142d27a5cc52.jpg -> Annotation:C:/Tensorflow object detection/TFODCourse/Tensorflow/workspace/images/collectedimages/Love_Is_Dead_Marriages_Are_Basically_Funnel_With_Cake\\Love_Is_Dead_Marriages_Are_Basically_Funnel_With_Cake.cd453649-c503-11eb-a2b7-142d27a5cc52.xml\n",
      "Cancel creation.\n",
      "Cancel creation.\n",
      "Image:C:\\Tensorflow object detection\\TFODCourse\\Tensorflow\\workspace\\images\\collectedimages\\MOM\\MOM.1e951778-c502-11eb-9c8c-142d27a5cc52.jpg -> Annotation:C:/Tensorflow object detection/TFODCourse/Tensorflow/workspace/images/collectedimages/MOM\\MOM.1e951778-c502-11eb-9c8c-142d27a5cc52.xml\n",
      "Image:C:\\Tensorflow object detection\\TFODCourse\\Tensorflow\\workspace\\images\\collectedimages\\MOM\\MOM.1fd1d444-c502-11eb-8fac-142d27a5cc52.jpg -> Annotation:C:/Tensorflow object detection/TFODCourse/Tensorflow/workspace/images/collectedimages/MOM\\MOM.1fd1d444-c502-11eb-8fac-142d27a5cc52.xml\n",
      "Image:C:\\Tensorflow object detection\\TFODCourse\\Tensorflow\\workspace\\images\\collectedimages\\MOM\\MOM.2acb2861-c502-11eb-8a8e-142d27a5cc52.jpg -> Annotation:C:/Tensorflow object detection/TFODCourse/Tensorflow/workspace/images/collectedimages/MOM\\MOM.2acb2861-c502-11eb-8a8e-142d27a5cc52.xml\n",
      "Image:C:\\Tensorflow object detection\\TFODCourse\\Tensorflow\\workspace\\images\\collectedimages\\MOM\\MOM.2c0218ed-c502-11eb-a2e6-142d27a5cc52.jpg -> Annotation:C:/Tensorflow object detection/TFODCourse/Tensorflow/workspace/images/collectedimages/MOM\\MOM.2c0218ed-c502-11eb-a2e6-142d27a5cc52.xml\n",
      "Image:C:\\Tensorflow object detection\\TFODCourse\\Tensorflow\\workspace\\images\\collectedimages\\MOM\\MOM.2d390ab0-c502-11eb-a00a-142d27a5cc52.jpg -> Annotation:C:/Tensorflow object detection/TFODCourse/Tensorflow/workspace/images/collectedimages/MOM\\MOM.2d390ab0-c502-11eb-a00a-142d27a5cc52.xml\n",
      "Image:C:\\Tensorflow object detection\\TFODCourse\\Tensorflow\\workspace\\images\\collectedimages\\MOM\\MOM.2e708d5b-c502-11eb-94e4-142d27a5cc52.jpg -> Annotation:C:/Tensorflow object detection/TFODCourse/Tensorflow/workspace/images/collectedimages/MOM\\MOM.2e708d5b-c502-11eb-94e4-142d27a5cc52.xml\n",
      "Image:C:\\Tensorflow object detection\\TFODCourse\\Tensorflow\\workspace\\images\\collectedimages\\MOM\\MOM.2fa724dd-c502-11eb-bce2-142d27a5cc52.jpg -> Annotation:C:/Tensorflow object detection/TFODCourse/Tensorflow/workspace/images/collectedimages/MOM\\MOM.2fa724dd-c502-11eb-bce2-142d27a5cc52.xml\n",
      "Image:C:\\Tensorflow object detection\\TFODCourse\\Tensorflow\\workspace\\images\\collectedimages\\MOM\\MOM.7af19240-c503-11eb-8723-142d27a5cc52.jpg -> Annotation:C:/Tensorflow object detection/TFODCourse/Tensorflow/workspace/images/collectedimages/MOM\\MOM.7af19240-c503-11eb-8723-142d27a5cc52.xml\n",
      "Image:C:\\Tensorflow object detection\\TFODCourse\\Tensorflow\\workspace\\images\\collectedimages\\MOM\\MOM.7c286d22-c503-11eb-9694-142d27a5cc52.jpg -> Annotation:C:/Tensorflow object detection/TFODCourse/Tensorflow/workspace/images/collectedimages/MOM\\MOM.7c286d22-c503-11eb-9694-142d27a5cc52.xml\n",
      "Image:C:\\Tensorflow object detection\\TFODCourse\\Tensorflow\\workspace\\images\\collectedimages\\MOM\\MOM.7e980832-c503-11eb-8040-142d27a5cc52.jpg -> Annotation:C:/Tensorflow object detection/TFODCourse/Tensorflow/workspace/images/collectedimages/MOM\\MOM.7e980832-c503-11eb-8040-142d27a5cc52.xml\n",
      "Image:C:\\Tensorflow object detection\\TFODCourse\\Tensorflow\\workspace\\images\\collectedimages\\MOM\\MOM.7fcf17ae-c503-11eb-9046-142d27a5cc52.jpg -> Annotation:C:/Tensorflow object detection/TFODCourse/Tensorflow/workspace/images/collectedimages/MOM\\MOM.7fcf17ae-c503-11eb-9046-142d27a5cc52.xml\n",
      "Image:C:\\Tensorflow object detection\\TFODCourse\\Tensorflow\\workspace\\images\\collectedimages\\MOM\\MOM.8ac4f727-c503-11eb-9dfe-142d27a5cc52.jpg -> Annotation:C:/Tensorflow object detection/TFODCourse/Tensorflow/workspace/images/collectedimages/MOM\\MOM.8ac4f727-c503-11eb-9dfe-142d27a5cc52.xml\n",
      "Image:C:\\Tensorflow object detection\\TFODCourse\\Tensorflow\\workspace\\images\\collectedimages\\MOM\\MOM.24b5004f-c502-11eb-8835-142d27a5cc52.jpg -> Annotation:C:/Tensorflow object detection/TFODCourse/Tensorflow/workspace/images/collectedimages/MOM\\MOM.24b5004f-c502-11eb-8835-142d27a5cc52.xml\n",
      "Image:C:\\Tensorflow object detection\\TFODCourse\\Tensorflow\\workspace\\images\\collectedimages\\MOM\\MOM.25eceac1-c502-11eb-be74-142d27a5cc52.jpg -> Annotation:C:/Tensorflow object detection/TFODCourse/Tensorflow/workspace/images/collectedimages/MOM\\MOM.25eceac1-c502-11eb-be74-142d27a5cc52.xml\n",
      "Cancel creation.\n",
      "Cancel creation.\n",
      "Cancel creation.\n",
      "Image:C:\\Tensorflow object detection\\TFODCourse\\Tensorflow\\workspace\\images\\collectedimages\\MOM\\MOM.35bf7920-c502-11eb-9bff-142d27a5cc52.jpg -> Annotation:C:/Tensorflow object detection/TFODCourse/Tensorflow/workspace/images/collectedimages/MOM\\MOM.35bf7920-c502-11eb-9bff-142d27a5cc52.xml\n",
      "Image:C:\\Tensorflow object detection\\TFODCourse\\Tensorflow\\workspace\\images\\collectedimages\\MOM\\MOM.74dbe09a-c503-11eb-9491-142d27a5cc52.jpg -> Annotation:C:/Tensorflow object detection/TFODCourse/Tensorflow/workspace/images/collectedimages/MOM\\MOM.74dbe09a-c503-11eb-9491-142d27a5cc52.xml\n",
      "Image:C:\\Tensorflow object detection\\TFODCourse\\Tensorflow\\workspace\\images\\collectedimages\\MOM\\MOM.79ba410b-c503-11eb-9dec-142d27a5cc52.jpg -> Annotation:C:/Tensorflow object detection/TFODCourse/Tensorflow/workspace/images/collectedimages/MOM\\MOM.79ba410b-c503-11eb-9dec-142d27a5cc52.xml\n",
      "Image:C:\\Tensorflow object detection\\TFODCourse\\Tensorflow\\workspace\\images\\collectedimages\\MOM\\MOM.84ac44f8-c503-11eb-9b74-142d27a5cc52.jpg -> Annotation:C:/Tensorflow object detection/TFODCourse/Tensorflow/workspace/images/collectedimages/MOM\\MOM.84ac44f8-c503-11eb-9b74-142d27a5cc52.xml\n",
      "Image:C:\\Tensorflow object detection\\TFODCourse\\Tensorflow\\workspace\\images\\collectedimages\\MOM\\MOM.85e35be1-c503-11eb-acc6-142d27a5cc52.jpg -> Annotation:C:/Tensorflow object detection/TFODCourse/Tensorflow/workspace/images/collectedimages/MOM\\MOM.85e35be1-c503-11eb-acc6-142d27a5cc52.xml\n",
      "Image:C:\\Tensorflow object detection\\TFODCourse\\Tensorflow\\workspace\\images\\collectedimages\\MOM\\MOM.210c2cd6-c502-11eb-aeca-142d27a5cc52.jpg -> Annotation:C:/Tensorflow object detection/TFODCourse/Tensorflow/workspace/images/collectedimages/MOM\\MOM.210c2cd6-c502-11eb-aeca-142d27a5cc52.xml\n",
      "Image:C:\\Tensorflow object detection\\TFODCourse\\Tensorflow\\workspace\\images\\collectedimages\\MOM\\MOM.237d245c-c502-11eb-a7a5-142d27a5cc52.jpg -> Annotation:C:/Tensorflow object detection/TFODCourse/Tensorflow/workspace/images/collectedimages/MOM\\MOM.237d245c-c502-11eb-a7a5-142d27a5cc52.xml\n",
      "Image:C:\\Tensorflow object detection\\TFODCourse\\Tensorflow\\workspace\\images\\collectedimages\\MOM\\MOM.285b232c-c502-11eb-a736-142d27a5cc52.jpg -> Annotation:C:/Tensorflow object detection/TFODCourse/Tensorflow/workspace/images/collectedimages/MOM\\MOM.285b232c-c502-11eb-a736-142d27a5cc52.xml\n",
      "Image:C:\\Tensorflow object detection\\TFODCourse\\Tensorflow\\workspace\\images\\collectedimages\\MOM\\MOM.774b5681-c503-11eb-be51-142d27a5cc52.jpg -> Annotation:C:/Tensorflow object detection/TFODCourse/Tensorflow/workspace/images/collectedimages/MOM\\MOM.774b5681-c503-11eb-be51-142d27a5cc52.xml\n",
      "Image:C:\\Tensorflow object detection\\TFODCourse\\Tensorflow\\workspace\\images\\collectedimages\\MOM\\MOM.823d7ebe-c503-11eb-a39a-142d27a5cc52.jpg -> Annotation:C:/Tensorflow object detection/TFODCourse/Tensorflow/workspace/images/collectedimages/MOM\\MOM.823d7ebe-c503-11eb-a39a-142d27a5cc52.xml\n",
      "Image:C:\\Tensorflow object detection\\TFODCourse\\Tensorflow\\workspace\\images\\collectedimages\\MOM\\MOM.871d1c7c-c503-11eb-a895-142d27a5cc52.jpg -> Annotation:C:/Tensorflow object detection/TFODCourse/Tensorflow/workspace/images/collectedimages/MOM\\MOM.871d1c7c-c503-11eb-a895-142d27a5cc52.xml\n",
      "Image:C:\\Tensorflow object detection\\TFODCourse\\Tensorflow\\workspace\\images\\collectedimages\\MOM\\MOM.898e38f1-c503-11eb-b188-142d27a5cc52.jpg -> Annotation:C:/Tensorflow object detection/TFODCourse/Tensorflow/workspace/images/collectedimages/MOM\\MOM.898e38f1-c503-11eb-b188-142d27a5cc52.xml\n",
      "Image:C:\\Tensorflow object detection\\TFODCourse\\Tensorflow\\workspace\\images\\collectedimages\\MOM\\MOM.2723c6f3-c502-11eb-b8d1-142d27a5cc52.jpg -> Annotation:C:/Tensorflow object detection/TFODCourse/Tensorflow/workspace/images/collectedimages/MOM\\MOM.2723c6f3-c502-11eb-b8d1-142d27a5cc52.xml\n",
      "Image:C:\\Tensorflow object detection\\TFODCourse\\Tensorflow\\workspace\\images\\collectedimages\\MOM\\MOM.2992e83c-c502-11eb-8b56-142d27a5cc52.jpg -> Annotation:C:/Tensorflow object detection/TFODCourse/Tensorflow/workspace/images/collectedimages/MOM\\MOM.2992e83c-c502-11eb-8b56-142d27a5cc52.xml\n",
      "Image:C:\\Tensorflow object detection\\TFODCourse\\Tensorflow\\workspace\\images\\collectedimages\\MOM\\MOM.22447b4d-c502-11eb-bf64-142d27a5cc52.jpg -> Annotation:C:/Tensorflow object detection/TFODCourse/Tensorflow/workspace/images/collectedimages/MOM\\MOM.22447b4d-c502-11eb-bf64-142d27a5cc52.xml\n",
      "Image:C:\\Tensorflow object detection\\TFODCourse\\Tensorflow\\workspace\\images\\collectedimages\\MOM\\MOM.76143a70-c503-11eb-8d61-142d27a5cc52.jpg -> Annotation:C:/Tensorflow object detection/TFODCourse/Tensorflow/workspace/images/collectedimages/MOM\\MOM.76143a70-c503-11eb-8d61-142d27a5cc52.xml\n",
      "Image:C:\\Tensorflow object detection\\TFODCourse\\Tensorflow\\workspace\\images\\collectedimages\\MOM\\MOM.81070ecd-c503-11eb-85e8-142d27a5cc52.jpg -> Annotation:C:/Tensorflow object detection/TFODCourse/Tensorflow/workspace/images/collectedimages/MOM\\MOM.81070ecd-c503-11eb-85e8-142d27a5cc52.xml\n",
      "Image:C:\\Tensorflow object detection\\TFODCourse\\Tensorflow\\workspace\\images\\collectedimages\\MOM\\MOM.83756f02-c503-11eb-a9ce-142d27a5cc52.jpg -> Annotation:C:/Tensorflow object detection/TFODCourse/Tensorflow/workspace/images/collectedimages/MOM\\MOM.83756f02-c503-11eb-a9ce-142d27a5cc52.xml\n",
      "Image:C:\\Tensorflow object detection\\TFODCourse\\Tensorflow\\workspace\\images\\collectedimages\\MOM\\MOM.348764cc-c502-11eb-bdea-142d27a5cc52.jpg -> Annotation:C:/Tensorflow object detection/TFODCourse/Tensorflow/workspace/images/collectedimages/MOM\\MOM.348764cc-c502-11eb-bdea-142d27a5cc52.xml\n",
      "Image:C:\\Tensorflow object detection\\TFODCourse\\Tensorflow\\workspace\\images\\collectedimages\\MOM\\MOM.885636c4-c503-11eb-adf3-142d27a5cc52.jpg -> Annotation:C:/Tensorflow object detection/TFODCourse/Tensorflow/workspace/images/collectedimages/MOM\\MOM.885636c4-c503-11eb-adf3-142d27a5cc52.xml\n",
      "Image:C:\\Tensorflow object detection\\TFODCourse\\Tensorflow\\workspace\\images\\collectedimages\\MOM\\MOM.78838366-c503-11eb-af5d-142d27a5cc52.jpg -> Annotation:C:/Tensorflow object detection/TFODCourse/Tensorflow/workspace/images/collectedimages/MOM\\MOM.78838366-c503-11eb-af5d-142d27a5cc52.xml\n",
      "Cancel creation.\n",
      "Cancel creation.\n",
      "Cancel creation.\n",
      "Image:C:\\Tensorflow object detection\\TFODCourse\\Tensorflow\\workspace\\images\\collectedimages\\thankyou\\thankyou.3ecb0264-c502-11eb-9e7b-142d27a5cc52.jpg -> Annotation:C:/Tensorflow object detection/TFODCourse/Tensorflow/workspace/images/collectedimages/thankyou\\thankyou.3ecb0264-c502-11eb-9e7b-142d27a5cc52.xml\n",
      "Cancel creation.\n",
      "Cancel creation.\n",
      "Image:C:\\Tensorflow object detection\\TFODCourse\\Tensorflow\\workspace\\images\\collectedimages\\thankyou\\thankyou.4aff15b1-c502-11eb-a975-142d27a5cc52.jpg -> Annotation:C:/Tensorflow object detection/TFODCourse/Tensorflow/workspace/images/collectedimages/thankyou\\thankyou.4aff15b1-c502-11eb-a975-142d27a5cc52.xml\n",
      "Image:C:\\Tensorflow object detection\\TFODCourse\\Tensorflow\\workspace\\images\\collectedimages\\thankyou\\thankyou.4c368eda-c502-11eb-855f-142d27a5cc52.jpg -> Annotation:C:/Tensorflow object detection/TFODCourse/Tensorflow/workspace/images/collectedimages/thankyou\\thankyou.4c368eda-c502-11eb-855f-142d27a5cc52.xml\n",
      "Image:C:\\Tensorflow object detection\\TFODCourse\\Tensorflow\\workspace\\images\\collectedimages\\thankyou\\thankyou.4d6e6b82-c502-11eb-839c-142d27a5cc52.jpg -> Annotation:C:/Tensorflow object detection/TFODCourse/Tensorflow/workspace/images/collectedimages/thankyou\\thankyou.4d6e6b82-c502-11eb-839c-142d27a5cc52.xml\n",
      "Image:C:\\Tensorflow object detection\\TFODCourse\\Tensorflow\\workspace\\images\\collectedimages\\thankyou\\thankyou.4ea5e2d2-c502-11eb-8660-142d27a5cc52.jpg -> Annotation:C:/Tensorflow object detection/TFODCourse/Tensorflow/workspace/images/collectedimages/thankyou\\thankyou.4ea5e2d2-c502-11eb-8660-142d27a5cc52.xml\n",
      "Image:C:\\Tensorflow object detection\\TFODCourse\\Tensorflow\\workspace\\images\\collectedimages\\thankyou\\thankyou.4fe974d7-c502-11eb-8872-142d27a5cc52.jpg -> Annotation:C:/Tensorflow object detection/TFODCourse/Tensorflow/workspace/images/collectedimages/thankyou\\thankyou.4fe974d7-c502-11eb-8872-142d27a5cc52.xml\n",
      "Image:C:\\Tensorflow object detection\\TFODCourse\\Tensorflow\\workspace\\images\\collectedimages\\thankyou\\thankyou.9a245f4a-c503-11eb-988b-142d27a5cc52.jpg -> Annotation:C:/Tensorflow object detection/TFODCourse/Tensorflow/workspace/images/collectedimages/thankyou\\thankyou.9a245f4a-c503-11eb-988b-142d27a5cc52.xml\n",
      "Image:C:\\Tensorflow object detection\\TFODCourse\\Tensorflow\\workspace\\images\\collectedimages\\thankyou\\thankyou.9b5cc9c1-c503-11eb-838b-142d27a5cc52.jpg -> Annotation:C:/Tensorflow object detection/TFODCourse/Tensorflow/workspace/images/collectedimages/thankyou\\thankyou.9b5cc9c1-c503-11eb-838b-142d27a5cc52.xml\n",
      "Image:C:\\Tensorflow object detection\\TFODCourse\\Tensorflow\\workspace\\images\\collectedimages\\thankyou\\thankyou.9dcb7bf3-c503-11eb-8650-142d27a5cc52.jpg -> Annotation:C:/Tensorflow object detection/TFODCourse/Tensorflow/workspace/images/collectedimages/thankyou\\thankyou.9dcb7bf3-c503-11eb-8650-142d27a5cc52.xml\n",
      "Image:C:\\Tensorflow object detection\\TFODCourse\\Tensorflow\\workspace\\images\\collectedimages\\thankyou\\thankyou.9f034c8c-c503-11eb-b678-142d27a5cc52.jpg -> Annotation:C:/Tensorflow object detection/TFODCourse/Tensorflow/workspace/images/collectedimages/thankyou\\thankyou.9f034c8c-c503-11eb-b678-142d27a5cc52.xml\n",
      "Cancel creation.\n",
      "Cancel creation.\n",
      "Image:C:\\Tensorflow object detection\\TFODCourse\\Tensorflow\\workspace\\images\\collectedimages\\thankyou\\thankyou.43b3fabb-c502-11eb-bd5c-142d27a5cc52.jpg -> Annotation:C:/Tensorflow object detection/TFODCourse/Tensorflow/workspace/images/collectedimages/thankyou\\thankyou.43b3fabb-c502-11eb-bd5c-142d27a5cc52.xml\n",
      "Image:C:\\Tensorflow object detection\\TFODCourse\\Tensorflow\\workspace\\images\\collectedimages\\thankyou\\thankyou.44eabff5-c502-11eb-8313-142d27a5cc52.jpg -> Annotation:C:/Tensorflow object detection/TFODCourse/Tensorflow/workspace/images/collectedimages/thankyou\\thankyou.44eabff5-c502-11eb-8313-142d27a5cc52.xml\n",
      "Image:C:\\Tensorflow object detection\\TFODCourse\\Tensorflow\\workspace\\images\\collectedimages\\thankyou\\thankyou.49c78792-c502-11eb-af6f-142d27a5cc52.jpg -> Annotation:C:/Tensorflow object detection/TFODCourse/Tensorflow/workspace/images/collectedimages/thankyou\\thankyou.49c78792-c502-11eb-af6f-142d27a5cc52.xml\n",
      "Image:C:\\Tensorflow object detection\\TFODCourse\\Tensorflow\\workspace\\images\\collectedimages\\thankyou\\thankyou.54c865cf-c502-11eb-886b-142d27a5cc52.jpg -> Annotation:C:/Tensorflow object detection/TFODCourse/Tensorflow/workspace/images/collectedimages/thankyou\\thankyou.54c865cf-c502-11eb-886b-142d27a5cc52.xml\n",
      "Image:C:\\Tensorflow object detection\\TFODCourse\\Tensorflow\\workspace\\images\\collectedimages\\thankyou\\thankyou.97b3beff-c503-11eb-a285-142d27a5cc52.jpg -> Annotation:C:/Tensorflow object detection/TFODCourse/Tensorflow/workspace/images/collectedimages/thankyou\\thankyou.97b3beff-c503-11eb-a285-142d27a5cc52.xml\n",
      "Image:C:\\Tensorflow object detection\\TFODCourse\\Tensorflow\\workspace\\images\\collectedimages\\thankyou\\thankyou.98ec0b1e-c503-11eb-ad9b-142d27a5cc52.jpg -> Annotation:C:/Tensorflow object detection/TFODCourse/Tensorflow/workspace/images/collectedimages/thankyou\\thankyou.98ec0b1e-c503-11eb-ad9b-142d27a5cc52.xml\n",
      "Image:C:\\Tensorflow object detection\\TFODCourse\\Tensorflow\\workspace\\images\\collectedimages\\thankyou\\thankyou.413f80bd-c502-11eb-b3ff-142d27a5cc52.jpg -> Annotation:C:/Tensorflow object detection/TFODCourse/Tensorflow/workspace/images/collectedimages/thankyou\\thankyou.413f80bd-c502-11eb-b3ff-142d27a5cc52.xml\n",
      "Image:C:\\Tensorflow object detection\\TFODCourse\\Tensorflow\\workspace\\images\\collectedimages\\thankyou\\thankyou.427d4f3d-c502-11eb-ac01-142d27a5cc52.jpg -> Annotation:C:/Tensorflow object detection/TFODCourse/Tensorflow/workspace/images/collectedimages/thankyou\\thankyou.427d4f3d-c502-11eb-ac01-142d27a5cc52.xml\n",
      "Image:C:\\Tensorflow object detection\\TFODCourse\\Tensorflow\\workspace\\images\\collectedimages\\thankyou\\thankyou.488fbc60-c502-11eb-8061-142d27a5cc52.jpg -> Annotation:C:/Tensorflow object detection/TFODCourse/Tensorflow/workspace/images/collectedimages/thankyou\\thankyou.488fbc60-c502-11eb-8061-142d27a5cc52.xml\n",
      "Image:C:\\Tensorflow object detection\\TFODCourse\\Tensorflow\\workspace\\images\\collectedimages\\thankyou\\thankyou.967bfc10-c503-11eb-ae1f-142d27a5cc52.jpg -> Annotation:C:/Tensorflow object detection/TFODCourse/Tensorflow/workspace/images/collectedimages/thankyou\\thankyou.967bfc10-c503-11eb-ae1f-142d27a5cc52.xml\n",
      "Image:C:\\Tensorflow object detection\\TFODCourse\\Tensorflow\\workspace\\images\\collectedimages\\thankyou\\thankyou.4757f616-c502-11eb-bcf7-142d27a5cc52.jpg -> Annotation:C:/Tensorflow object detection/TFODCourse/Tensorflow/workspace/images/collectedimages/thankyou\\thankyou.4757f616-c502-11eb-bcf7-142d27a5cc52.xml\n",
      "Image:C:\\Tensorflow object detection\\TFODCourse\\Tensorflow\\workspace\\images\\collectedimages\\thankyou\\thankyou.51214a03-c502-11eb-b9cb-142d27a5cc52.jpg -> Annotation:C:/Tensorflow object detection/TFODCourse/Tensorflow/workspace/images/collectedimages/thankyou\\thankyou.51214a03-c502-11eb-b9cb-142d27a5cc52.xml\n",
      "Image:C:\\Tensorflow object detection\\TFODCourse\\Tensorflow\\workspace\\images\\collectedimages\\thankyou\\thankyou.95437a8e-c503-11eb-bede-142d27a5cc52.jpg -> Annotation:C:/Tensorflow object detection/TFODCourse/Tensorflow/workspace/images/collectedimages/thankyou\\thankyou.95437a8e-c503-11eb-bede-142d27a5cc52.xml\n",
      "Image:C:\\Tensorflow object detection\\TFODCourse\\Tensorflow\\workspace\\images\\collectedimages\\thankyou\\thankyou.462138a1-c502-11eb-a17c-142d27a5cc52.jpg -> Annotation:C:/Tensorflow object detection/TFODCourse/Tensorflow/workspace/images/collectedimages/thankyou\\thankyou.462138a1-c502-11eb-a17c-142d27a5cc52.xml\n",
      "Image:C:\\Tensorflow object detection\\TFODCourse\\Tensorflow\\workspace\\images\\collectedimages\\thankyou\\thankyou.40067700-c502-11eb-83c2-142d27a5cc52.jpg -> Annotation:C:/Tensorflow object detection/TFODCourse/Tensorflow/workspace/images/collectedimages/thankyou\\thankyou.40067700-c502-11eb-83c2-142d27a5cc52.xml\n",
      "Image:C:\\Tensorflow object detection\\TFODCourse\\Tensorflow\\workspace\\images\\collectedimages\\thankyou\\thankyou.56000477-c502-11eb-a7b9-142d27a5cc52.jpg -> Annotation:C:/Tensorflow object detection/TFODCourse/Tensorflow/workspace/images/collectedimages/thankyou\\thankyou.56000477-c502-11eb-a7b9-142d27a5cc52.xml\n",
      "Image:C:\\Tensorflow object detection\\TFODCourse\\Tensorflow\\workspace\\images\\collectedimages\\thankyou\\thankyou.a2ae58cb-c503-11eb-b76f-142d27a5cc52.jpg -> Annotation:C:/Tensorflow object detection/TFODCourse/Tensorflow/workspace/images/collectedimages/thankyou\\thankyou.a2ae58cb-c503-11eb-b76f-142d27a5cc52.xml\n",
      "Image:C:\\Tensorflow object detection\\TFODCourse\\Tensorflow\\workspace\\images\\collectedimages\\thankyou\\thankyou.a03adf91-c503-11eb-9626-142d27a5cc52.jpg -> Annotation:C:/Tensorflow object detection/TFODCourse/Tensorflow/workspace/images/collectedimages/thankyou\\thankyou.a03adf91-c503-11eb-9626-142d27a5cc52.xml\n",
      "Image:C:\\Tensorflow object detection\\TFODCourse\\Tensorflow\\workspace\\images\\collectedimages\\thankyou\\thankyou.a3e8364f-c503-11eb-abbd-142d27a5cc52.jpg -> Annotation:C:/Tensorflow object detection/TFODCourse/Tensorflow/workspace/images/collectedimages/thankyou\\thankyou.a3e8364f-c503-11eb-abbd-142d27a5cc52.xml\n",
      "Image:C:\\Tensorflow object detection\\TFODCourse\\Tensorflow\\workspace\\images\\collectedimages\\thankyou\\thankyou.a9ff75f9-c503-11eb-86e5-142d27a5cc52.jpg -> Annotation:C:/Tensorflow object detection/TFODCourse/Tensorflow/workspace/images/collectedimages/thankyou\\thankyou.a9ff75f9-c503-11eb-86e5-142d27a5cc52.xml\n",
      "Image:C:\\Tensorflow object detection\\TFODCourse\\Tensorflow\\workspace\\images\\collectedimages\\thankyou\\thankyou.a659e493-c503-11eb-bac5-142d27a5cc52.jpg -> Annotation:C:/Tensorflow object detection/TFODCourse/Tensorflow/workspace/images/collectedimages/thankyou\\thankyou.a659e493-c503-11eb-bac5-142d27a5cc52.xml\n",
      "Cancel creation.\n",
      "Image:C:\\Tensorflow object detection\\TFODCourse\\Tensorflow\\workspace\\images\\collectedimages\\thankyou\\thankyou.a1748af3-c503-11eb-b88a-142d27a5cc52.jpg -> Annotation:C:/Tensorflow object detection/TFODCourse/Tensorflow/workspace/images/collectedimages/thankyou\\thankyou.a1748af3-c503-11eb-b88a-142d27a5cc52.xml\n",
      "Image:C:\\Tensorflow object detection\\TFODCourse\\Tensorflow\\workspace\\images\\collectedimages\\thankyou\\thankyou.a5218ae8-c503-11eb-85ca-142d27a5cc52.jpg -> Annotation:C:/Tensorflow object detection/TFODCourse/Tensorflow/workspace/images/collectedimages/thankyou\\thankyou.a5218ae8-c503-11eb-85ca-142d27a5cc52.xml\n",
      "Image:C:\\Tensorflow object detection\\TFODCourse\\Tensorflow\\workspace\\images\\collectedimages\\thankyou\\thankyou.ab36602c-c503-11eb-a1f8-142d27a5cc52.jpg -> Annotation:C:/Tensorflow object detection/TFODCourse/Tensorflow/workspace/images/collectedimages/thankyou\\thankyou.ab36602c-c503-11eb-a1f8-142d27a5cc52.xml\n",
      "Image:C:\\Tensorflow object detection\\TFODCourse\\Tensorflow\\workspace\\images\\collectedimages\\thankyou\\thankyou.ac6e6a4c-c503-11eb-8e47-142d27a5cc52.jpg -> Annotation:C:/Tensorflow object detection/TFODCourse/Tensorflow/workspace/images/collectedimages/thankyou\\thankyou.ac6e6a4c-c503-11eb-8e47-142d27a5cc52.xml\n"
     ]
    }
   ],
   "source": [
    "!cd {LABELIMG_PATH} && python labelImg.py"
   ]
  },
  {
   "cell_type": "markdown",
   "metadata": {},
   "source": [
    "# 6. Move them into a Training and Testing Partition"
   ]
  },
  {
   "cell_type": "markdown",
   "metadata": {},
   "source": [
    "# OPTIONAL - 7. Compress them for Colab Training"
   ]
  },
  {
   "cell_type": "code",
   "execution_count": 20,
   "metadata": {},
   "outputs": [],
   "source": [
    "TRAIN_PATH = os.path.join('Tensorflow', 'workspace', 'images', 'train')\n",
    "TEST_PATH = os.path.join('Tensorflow', 'workspace', 'images', 'test')\n",
    "ARCHIVE_PATH = os.path.join('Tensorflow', 'workspace', 'images', 'archive.tar.gz')"
   ]
  },
  {
   "cell_type": "code",
   "execution_count": 21,
   "metadata": {},
   "outputs": [],
   "source": [
    "!tar -czf {ARCHIVE_PATH} {TRAIN_PATH} {TEST_PATH}"
   ]
  },
  {
   "cell_type": "code",
   "execution_count": null,
   "metadata": {},
   "outputs": [],
   "source": []
  }
 ],
 "metadata": {
  "kernelspec": {
   "display_name": "tfodj",
   "language": "python",
   "name": "tfodj"
  },
  "language_info": {
   "codemirror_mode": {
    "name": "ipython",
    "version": 3
   },
   "file_extension": ".py",
   "mimetype": "text/x-python",
   "name": "python",
   "nbconvert_exporter": "python",
   "pygments_lexer": "ipython3",
   "version": "3.8.0"
  }
 },
 "nbformat": 4,
 "nbformat_minor": 2
}
